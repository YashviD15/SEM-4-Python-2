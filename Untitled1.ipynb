{
 "cells": [
  {
   "cell_type": "code",
   "execution_count": null,
   "metadata": {},
   "outputs": [],
   "source": [
    "import socket\n",
    "host=\"\"\n",
    "port=7890\n",
    "ser=socket.socket()\n",
    "ser.bind((host,port))\n",
    "ser.listen()\n",
    "print(\"http://localhost:7890\")\n",
    "while True:\n",
    "    conn,add=ser.accept()\n",
    "    data=conn.recv(1024).decode()\n",
    "    print(data)\n",
    "    msg=\"HTTP/1.1 200 Ok\\r\\n\"\n",
    "    msg+=\"content-Type:text/html;charset-utf-8\\r\\n\"\n",
    "    msg+=\"\\r\\n\"\n",
    "    msg+=\"<html><body>Helloo Yashvi</body></html>\"\n",
    "    conn.send(msg.encode())\n",
    "    conn.close()\n",
    "ser.close()\n",
    "    "
   ]
  }
 ],
 "metadata": {
  "kernelspec": {
   "display_name": "Python 3",
   "language": "python",
   "name": "python3"
  },
  "language_info": {
   "codemirror_mode": {
    "name": "ipython",
    "version": 3
   },
   "file_extension": ".py",
   "mimetype": "text/x-python",
   "name": "python",
   "nbconvert_exporter": "python",
   "pygments_lexer": "ipython3",
   "version": "3.8.5"
  }
 },
 "nbformat": 4,
 "nbformat_minor": 4
}
