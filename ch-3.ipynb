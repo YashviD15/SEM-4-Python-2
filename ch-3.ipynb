{
 "cells": [
  {
   "cell_type": "code",
   "execution_count": 7,
   "metadata": {},
   "outputs": [
    {
     "name": "stdout",
     "output_type": "stream",
     "text": [
      "['9', '0']\n"
     ]
    }
   ],
   "source": [
    "import re\n",
    "x=\"The rain in spain 90\"\n",
    "reg=\"[^a-m]\"\n",
    "reg1=\"\\d\"\n",
    "y=re.findall(reg1,x)\n",
    "print(y)"
   ]
  },
  {
   "cell_type": "code",
   "execution_count": 9,
   "metadata": {},
   "outputs": [
    {
     "name": "stdout",
     "output_type": "stream",
     "text": [
      "['r', 'i', 'n', 'i', 'n', 'i', 'n', 'r', 'i', 'n']\n"
     ]
    }
   ],
   "source": [
    "import re\n",
    "x=\"The rain in spain rein\"\n",
    "reg=\"[r.in]\"\n",
    "y=re.findall(reg,x)\n",
    "print(y)"
   ]
  },
  {
   "cell_type": "code",
   "execution_count": 18,
   "metadata": {},
   "outputs": [
    {
     "name": "stdout",
     "output_type": "stream",
     "text": [
      "['rain', 'rein']\n"
     ]
    }
   ],
   "source": [
    "import re\n",
    "x=\"The rain in spain rein\"\n",
    "reg1=\"r..{1}n\"\n",
    "y=re.findall(reg1,x)\n",
    "print(y)"
   ]
  },
  {
   "cell_type": "code",
   "execution_count": 17,
   "metadata": {},
   "outputs": [
    {
     "name": "stdout",
     "output_type": "stream",
     "text": [
      "['The']\n"
     ]
    }
   ],
   "source": [
    "import re\n",
    "x=\"The rain in spain 90\"\n",
    "reg1=\"^The\"\n",
    "y=re.findall(reg1,x)\n",
    "print(y)"
   ]
  },
  {
   "cell_type": "code",
   "execution_count": 26,
   "metadata": {},
   "outputs": [
    {
     "name": "stdout",
     "output_type": "stream",
     "text": [
      "['The']\n",
      "['The']\n",
      "['ain', 'ain']\n"
     ]
    }
   ],
   "source": [
    "import re\n",
    "x=\"The rain in spain\"\n",
    "y=re.findall(r\"\\AThe\",x)\n",
    "print(y)\n",
    "y=re.findall(r\"\\bThe\",x)\n",
    "print(y)\n",
    "y=re.findall(r\"ain\\b\",x)\n",
    "print(y)\n"
   ]
  },
  {
   "cell_type": "code",
   "execution_count": 23,
   "metadata": {},
   "outputs": [
    {
     "name": "stdout",
     "output_type": "stream",
     "text": [
      "['11', '45']\n"
     ]
    }
   ],
   "source": [
    "import re\n",
    "x=\"8 time before 11:45 67 AM\"\n",
    "y=re.findall(r\"[0-5][0-9]\",x)\n",
    "print(y)"
   ]
  },
  {
   "cell_type": "code",
   "execution_count": 39,
   "metadata": {},
   "outputs": [
    {
     "name": "stdout",
     "output_type": "stream",
     "text": [
      "['1234567891', '8957468394', '8795495063', '7684960309']\n"
     ]
    }
   ],
   "source": [
    "import re\n",
    "x=\"1234567891  hello 8957468394 8795495063  hiii 7684960309\"\n",
    "y=re.findall(r\"\\b\\d{10}\\b\",x)\n",
    "# y=re.findall(r\"\\b[0-9]{10}\\b\",x)\n",
    "print(y)\n"
   ]
  },
  {
   "cell_type": "code",
   "execution_count": 40,
   "metadata": {},
   "outputs": [
    {
     "name": "stdout",
     "output_type": "stream",
     "text": [
      "['Quick', 'jumps']\n"
     ]
    }
   ],
   "source": [
    "import re\n",
    "x=\"The Quick gbrown fox jumps over the lazy dog\"\n",
    "y=re.findall(r\"\\b\\w{5}\\b\",x)\n",
    "print(y)"
   ]
  },
  {
   "cell_type": "code",
   "execution_count": 59,
   "metadata": {},
   "outputs": [
    {
     "name": "stdout",
     "output_type": "stream",
     "text": [
      "['alice_one@gmail.uk', 'abc12@gmail.com']\n"
     ]
    }
   ],
   "source": [
    "import re\n",
    "x=\"alice_one@gmail.uk abc12@gmail.com\"\n",
    "y=re.findall(r\"\\b[A-z0-9._%]+@[A-z]+\\.[A-z]{2,}\\b\",x)\n",
    "print(y)"
   ]
  },
  {
   "cell_type": "code",
   "execution_count": 1,
   "metadata": {},
   "outputs": [
    {
     "data": {
      "text/plain": [
       "['This', 'is', 'a', 'python', 'programm']"
      ]
     },
     "execution_count": 1,
     "metadata": {},
     "output_type": "execute_result"
    }
   ],
   "source": [
    "import re\n",
    "x=\"This is a python programm\"\n",
    "re.split(\"\\s\",x)"
   ]
  },
  {
   "cell_type": "code",
   "execution_count": 3,
   "metadata": {},
   "outputs": [
    {
     "data": {
      "text/plain": [
       "'This$is$a python programm'"
      ]
     },
     "execution_count": 3,
     "metadata": {},
     "output_type": "execute_result"
    }
   ],
   "source": [
    "import re\n",
    "x=\"This is a python programm\"\n",
    "re.sub(\"\\s\",\"$\",x,2)"
   ]
  },
  {
   "cell_type": "code",
   "execution_count": 8,
   "metadata": {},
   "outputs": [
    {
     "data": {
      "text/plain": [
       "<re.Match object; span=(4, 6), match='is'>"
      ]
     },
     "execution_count": 8,
     "metadata": {},
     "output_type": "execute_result"
    }
   ],
   "source": [
    "import re\n",
    "x=\"The is a python is programm\"\n",
    "re.search(\"is\",x)"
   ]
  },
  {
   "cell_type": "code",
   "execution_count": 31,
   "metadata": {},
   "outputs": [
    {
     "name": "stdout",
     "output_type": "stream",
     "text": [
      "['30/09/1998']\n"
     ]
    }
   ],
   "source": [
    "import re\n",
    "x=\"my Bday on 30/09/1998\"\n",
    "y=re.findall(r\"\\b\\d{1,2}/\\d{1,2}/\\d{4}\\b\",x)\n",
    "print(y)"
   ]
  },
  {
   "cell_type": "code",
   "execution_count": null,
   "metadata": {},
   "outputs": [],
   "source": []
  }
 ],
 "metadata": {
  "kernelspec": {
   "display_name": "Python 3",
   "language": "python",
   "name": "python3"
  },
  "language_info": {
   "codemirror_mode": {
    "name": "ipython",
    "version": 3
   },
   "file_extension": ".py",
   "mimetype": "text/x-python",
   "name": "python",
   "nbconvert_exporter": "python",
   "pygments_lexer": "ipython3",
   "version": "3.8.5"
  }
 },
 "nbformat": 4,
 "nbformat_minor": 4
}
