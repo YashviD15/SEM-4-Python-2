{
 "cells": [
  {
   "cell_type": "code",
   "execution_count": null,
   "metadata": {},
   "outputs": [
    {
     "name": "stdout",
     "output_type": "stream",
     "text": [
      "access http://localhost:9800\n"
     ]
    }
   ],
   "source": [
    "import socket\n",
    "host=\"localhost\"\n",
    "port=9800\n",
    "server=socket.socket(socket.AF_INET, socket.SOCK_STREAM)\n",
    "server.bind((host,port))\n",
    "server.listen()\n",
    "print(\"access http://localhost:9800\")\n",
    "\n",
    "while True:\n",
    "    conn,addr=server.accept()\n",
    "    data=conn.recv(1024).decode()\n",
    "    data1=\"HTTP/1.1 200 OK\\r\\n\"\n",
    "    data1+=\"Content-Type:text/html; charset=utf-8\\r\\n\"\n",
    "    data1+=\"<html><body><h1>Hello World</h1></body></html>\"\n",
    "    conn.send(data1.encode())\n",
    "    conn.close()"
   ]
  },
  {
   "cell_type": "code",
   "execution_count": null,
   "metadata": {},
   "outputs": [],
   "source": []
  }
 ],
 "metadata": {
  "kernelspec": {
   "display_name": "Python 3",
   "language": "python",
   "name": "python3"
  },
  "language_info": {
   "codemirror_mode": {
    "name": "ipython",
    "version": 3
   },
   "file_extension": ".py",
   "mimetype": "text/x-python",
   "name": "python",
   "nbconvert_exporter": "python",
   "pygments_lexer": "ipython3",
   "version": "3.8.5"
  }
 },
 "nbformat": 4,
 "nbformat_minor": 4
}
