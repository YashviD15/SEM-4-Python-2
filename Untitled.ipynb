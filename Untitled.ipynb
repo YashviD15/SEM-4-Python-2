{
 "cells": [
  {
   "cell_type": "code",
   "execution_count": 1,
   "metadata": {},
   "outputs": [],
   "source": [
    "from bs4 import BeautifulSoup\n",
    "import bs4"
   ]
  },
  {
   "cell_type": "code",
   "execution_count": 30,
   "metadata": {},
   "outputs": [],
   "source": [
    "f=open(\"30 Most Popular Movies Right Now： What to Watch In Theaters and Streaming ｜ Rotten Tomatoes (5_28_2025 8：32：40 AM).html\",encoding=\"utf-8\")\n",
    "data=f.read()\n",
    "soup=BeautifulSoup(data,\"html.parser\")\n",
    "x=soup.findAll(\"div\",class_=\"article_movie_title\")  \n",
    "movie=[]\n",
    "for div in x:\n",
    "    a_tag = div.find(\"a\")\n",
    "    movie.append(a_tag.text.strip())"
   ]
  },
  {
   "cell_type": "code",
   "execution_count": 31,
   "metadata": {},
   "outputs": [
    {
     "data": {
      "text/plain": [
       "['Lilo & Stitch',\n",
       " 'Final Destination Bloodlines',\n",
       " 'Mission: Impossible - The Final Reckoning',\n",
       " 'Fountain of Youth',\n",
       " 'Friendship',\n",
       " 'Sinners',\n",
       " 'Hurry Up Tomorrow',\n",
       " 'Thunderbolts*',\n",
       " 'Mission: Impossible - Dead Reckoning Part One',\n",
       " 'Warfare',\n",
       " 'Black Bag',\n",
       " 'Mickey 17',\n",
       " 'Nonnas',\n",
       " 'Fear Street: Prom Queen',\n",
       " 'Companion',\n",
       " 'A Minecraft Movie',\n",
       " 'Drop',\n",
       " 'The Phoenician Scheme',\n",
       " 'Bring Her Back',\n",
       " \"Disney's Snow White\",\n",
       " 'The Legend of Ochi',\n",
       " 'The Last Rodeo',\n",
       " 'Novocaine',\n",
       " 'Until Dawn',\n",
       " 'Havoc',\n",
       " 'The Accountant 2',\n",
       " 'The Brutalist',\n",
       " 'The Ugly Stepsister',\n",
       " 'Karate Kid: Legends',\n",
       " 'The Surrender']"
      ]
     },
     "execution_count": 31,
     "metadata": {},
     "output_type": "execute_result"
    }
   ],
   "source": [
    "movie"
   ]
  },
  {
   "cell_type": "code",
   "execution_count": 52,
   "metadata": {},
   "outputs": [
    {
     "data": {
      "text/plain": [
       "['(2025)',\n",
       " '(2025)',\n",
       " '(2025)',\n",
       " '(2025)',\n",
       " '(2024)',\n",
       " '(2025)',\n",
       " '(2025)',\n",
       " '(2025)',\n",
       " '(2023)',\n",
       " '(2025)',\n",
       " '(2025)',\n",
       " '(2025)',\n",
       " '(2025)',\n",
       " '(2025)',\n",
       " '(2025)',\n",
       " '(2025)',\n",
       " '(2025)',\n",
       " '(2025)',\n",
       " '(2025)',\n",
       " '(2025)',\n",
       " '(2025)',\n",
       " '(2025)',\n",
       " '(2025)',\n",
       " '(2025)',\n",
       " '(2025)',\n",
       " '(2025)',\n",
       " '(2024)',\n",
       " '(2025)',\n",
       " '(2025)',\n",
       " '(2025)']"
      ]
     },
     "execution_count": 52,
     "metadata": {},
     "output_type": "execute_result"
    }
   ],
   "source": [
    "y=soup.findAll(\"span\",class_=\"subtle start-year\")\n",
    "year=[]\n",
    "for  i in y:\n",
    "    year.append(i.text.strip())\n",
    "year"
   ]
  },
  {
   "cell_type": "code",
   "execution_count": 53,
   "metadata": {},
   "outputs": [
    {
     "data": {
      "text/plain": [
       "['69%',\n",
       " '92%',\n",
       " '80%',\n",
       " '38%',\n",
       " '89%',\n",
       " '97%',\n",
       " '15%',\n",
       " '88%',\n",
       " '96%',\n",
       " '93%',\n",
       " '96%',\n",
       " '77%',\n",
       " '81%',\n",
       " '27%',\n",
       " '93%',\n",
       " '48%',\n",
       " '84%',\n",
       " '76%',\n",
       " '90%',\n",
       " '40%',\n",
       " '77%',\n",
       " '72%',\n",
       " '81%',\n",
       " '52%',\n",
       " '63%',\n",
       " '76%',\n",
       " '93%',\n",
       " '95%',\n",
       " '- -',\n",
       " '84%']"
      ]
     },
     "execution_count": 53,
     "metadata": {},
     "output_type": "execute_result"
    }
   ],
   "source": [
    "z=soup.findAll(\"span\",class_=\"tMeterScore\")\n",
    "tomatometer=[]\n",
    "for i in z:\n",
    "    tomatometer.append(i.text.strip())\n",
    "tomatometer"
   ]
  },
  {
   "cell_type": "code",
   "execution_count": 64,
   "metadata": {},
   "outputs": [
    {
     "data": {
      "text/plain": [
       "['Dean Fleischer-Camp',\n",
       " 'Adam B. Stein',\n",
       " 'Christopher McQuarrie',\n",
       " 'Guy Ritchie',\n",
       " 'Andrew DeYoung',\n",
       " 'Ryan Coogler',\n",
       " 'Trey Edward Shults',\n",
       " 'Jake Schreier',\n",
       " 'Christopher McQuarrie',\n",
       " 'Ray Mendoza',\n",
       " 'Steven Soderbergh',\n",
       " 'Bong Joon Ho',\n",
       " 'Stephen Chbosky',\n",
       " 'Matt Palmer',\n",
       " 'Drew Hancock',\n",
       " 'Jared Hess',\n",
       " 'Christopher Landon',\n",
       " 'Wes Anderson',\n",
       " 'Danny Philippou',\n",
       " 'Marc Webb',\n",
       " 'Isaiah Saxon',\n",
       " 'Jon Avnet',\n",
       " 'Dan Berk',\n",
       " 'David F. Sandberg',\n",
       " 'Gareth Evans',\n",
       " \"Gavin O'Connor\",\n",
       " 'Brady Corbet',\n",
       " 'Emilie Blichfeldt',\n",
       " 'Jonathan Entwistle',\n",
       " 'Julia Max']"
      ]
     },
     "execution_count": 64,
     "metadata": {},
     "output_type": "execute_result"
    }
   ],
   "source": [
    "ab=soup.findAll(\"div\",class_=\"info director\")\n",
    "director=[]\n",
    "for i in ab:\n",
    "    director.append(i.find(\"a\").text)\n",
    "    \n",
    "director"
   ]
  },
  {
   "cell_type": "code",
   "execution_count": null,
   "metadata": {},
   "outputs": [],
   "source": []
  }
 ],
 "metadata": {
  "kernelspec": {
   "display_name": "Python 3",
   "language": "python",
   "name": "python3"
  },
  "language_info": {
   "codemirror_mode": {
    "name": "ipython",
    "version": 3
   },
   "file_extension": ".py",
   "mimetype": "text/x-python",
   "name": "python",
   "nbconvert_exporter": "python",
   "pygments_lexer": "ipython3",
   "version": "3.8.5"
  }
 },
 "nbformat": 4,
 "nbformat_minor": 4
}
