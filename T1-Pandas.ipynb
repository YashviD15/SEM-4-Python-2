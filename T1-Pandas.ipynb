{
 "cells": [
  {
   "cell_type": "code",
   "execution_count": 2,
   "metadata": {},
   "outputs": [
    {
     "name": "stdout",
     "output_type": "stream",
     "text": [
      "0     1\n",
      "1     2\n",
      "2     3\n",
      "3     4\n",
      "4     5\n",
      "5     6\n",
      "6     7\n",
      "7     8\n",
      "8     9\n",
      "9    10\n",
      "dtype: int64\n"
     ]
    }
   ],
   "source": [
    "#Series\n",
    "import pandas as pd\n",
    "x=[1,2,3,4,5,6,7,8,9,10]\n",
    "y=pd.Series(x)\n",
    "print(y)"
   ]
  },
  {
   "cell_type": "code",
   "execution_count": 4,
   "metadata": {},
   "outputs": [
    {
     "name": "stdout",
     "output_type": "stream",
     "text": [
      "a    1\n",
      "b    2\n",
      "c    3\n",
      "d    4\n",
      "e    5\n",
      "dtype: int64\n"
     ]
    }
   ],
   "source": [
    "import pandas as pd\n",
    "x=[1,2,3,4,5]\n",
    "y=pd.Series(x,index=['a','b','c','d','e'])\n",
    "print(y)"
   ]
  },
  {
   "cell_type": "code",
   "execution_count": 6,
   "metadata": {},
   "outputs": [
    {
     "name": "stdout",
     "output_type": "stream",
     "text": [
      "a    1\n",
      "b    2\n",
      "c    3\n",
      "d    4\n",
      "e    5\n",
      "dtype: int64\n"
     ]
    }
   ],
   "source": [
    "import pandas as pd\n",
    "x={\"a\":1,\"b\":2,\"c\":3,\"d\":4,\"e\":5}\n",
    "y=pd.Series(x)\n",
    "print(y)"
   ]
  },
  {
   "cell_type": "code",
   "execution_count": 12,
   "metadata": {},
   "outputs": [
    {
     "name": "stdout",
     "output_type": "stream",
     "text": [
      "j    10\n",
      "i     9\n",
      "h     8\n",
      "g     7\n",
      "f     6\n",
      "e     5\n",
      "d     4\n",
      "c     3\n",
      "b     2\n",
      "a     1\n",
      "dtype: int64\n",
      "a    1\n",
      "c    3\n",
      "e    5\n",
      "g    7\n",
      "i    9\n",
      "dtype: int64\n",
      "10\n",
      "1\n",
      "f     6\n",
      "g     7\n",
      "h     8\n",
      "i     9\n",
      "j    10\n",
      "dtype: int64\n"
     ]
    }
   ],
   "source": [
    "import pandas as pd\n",
    "x=[1,2,3,4,5,6,7,8,9,10]\n",
    "y=pd.Series(x,index=['a','b','c','d','e','f','g','h','i','j'])\n",
    "print(y[::-1])\n",
    "print(y[::2])\n",
    "print(y[\"j\"])\n",
    "print(y[0])\n",
    "print(y[y>5])"
   ]
  },
  {
   "cell_type": "code",
   "execution_count": 16,
   "metadata": {},
   "outputs": [
    {
     "name": "stdout",
     "output_type": "stream",
     "text": [
      "   0   1   2   3\n",
      "0  1   2   3   4\n",
      "1  5   6   7   8\n",
      "2  9  10  11  12\n"
     ]
    }
   ],
   "source": [
    "#DataFrame\n",
    "import pandas as pd\n",
    "x=[[1,2,3,4],[5,6,7,8],[9,10,11,12]]\n",
    "y=pd.DataFrame(x)\n",
    "print(y)"
   ]
  },
  {
   "cell_type": "code",
   "execution_count": 20,
   "metadata": {},
   "outputs": [
    {
     "name": "stdout",
     "output_type": "stream",
     "text": [
      "   M   N   O   Y\n",
      "a  1   2   3   4\n",
      "b  5   6   7   8\n",
      "c  9  10  11  12\n"
     ]
    }
   ],
   "source": [
    "import pandas as pd\n",
    "x=[[1,2,3,4],[5,6,7,8],[9,10,11,12]]\n",
    "y=pd.DataFrame(x,index=['a','b','c'],columns=['M','N','O','Y'])\n",
    "print(y)"
   ]
  },
  {
   "cell_type": "code",
   "execution_count": 25,
   "metadata": {},
   "outputs": [
    {
     "name": "stdout",
     "output_type": "stream",
     "text": [
      "   a  b  c  d  e\n",
      "0  1  4  5  4  5\n",
      "1  2  5  9  8  6\n"
     ]
    }
   ],
   "source": [
    "import pandas as pd\n",
    "x={\"a\":[1,2],\"b\":[4,5],\"c\":[5,9],\"d\":[4,8],\"e\":[5,6]}\n",
    "y=pd.DataFrame(x)\n",
    "print(y)"
   ]
  },
  {
   "cell_type": "code",
   "execution_count": 39,
   "metadata": {},
   "outputs": [
    {
     "name": "stdout",
     "output_type": "stream",
     "text": [
      "   a  b  c  d  e\n",
      "x  1  4  5  4  5\n",
      "y  2  5  9  8  6\n",
      "\n",
      "a    1\n",
      "b    4\n",
      "c    5\n",
      "d    4\n",
      "e    5\n",
      "Name: x, dtype: int64\n",
      "\n",
      "a    2\n",
      "b    5\n",
      "c    9\n",
      "d    8\n",
      "e    6\n",
      "Name: y, dtype: int64\n",
      "\n",
      "9\n",
      "\n",
      "x    5\n",
      "y    6\n",
      "Name: e, dtype: int64\n"
     ]
    }
   ],
   "source": [
    "import pandas as pd\n",
    "x={\"a\":[1,2],\"b\":[4,5],\"c\":[5,9],\"d\":[4,8],\"e\":[5,6]}\n",
    "y=pd.DataFrame(x,index=['x','y'])\n",
    "print(y)\n",
    "print()\n",
    "print(y.iloc[0])\n",
    "print()\n",
    "print(y.loc[\"y\"])\n",
    "print()\n",
    "print(y.loc[\"y\",\"c\"])\n",
    "print()\n",
    "print(y[\"e\"])"
   ]
  },
  {
   "cell_type": "code",
   "execution_count": null,
   "metadata": {},
   "outputs": [],
   "source": []
  }
 ],
 "metadata": {
  "kernelspec": {
   "display_name": "Python 3",
   "language": "python",
   "name": "python3"
  },
  "language_info": {
   "codemirror_mode": {
    "name": "ipython",
    "version": 3
   },
   "file_extension": ".py",
   "mimetype": "text/x-python",
   "name": "python",
   "nbconvert_exporter": "python",
   "pygments_lexer": "ipython3",
   "version": "3.8.5"
  }
 },
 "nbformat": 4,
 "nbformat_minor": 4
}
